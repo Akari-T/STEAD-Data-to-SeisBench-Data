{
 "cells": [
  {
   "cell_type": "markdown",
   "metadata": {
    "id": "grFb3giy6RB-"
   },
   "source": [
    "# Seisbench Data EDA"
   ]
  },
  {
   "cell_type": "markdown",
   "metadata": {
    "id": "of-Jz2VS2QBN"
   },
   "source": [
    "## Setup"
   ]
  },
  {
   "cell_type": "code",
   "execution_count": 1,
   "metadata": {
    "colab": {
     "base_uri": "https://localhost:8080/"
    },
    "executionInfo": {
     "elapsed": 18461,
     "status": "ok",
     "timestamp": 1717361426111,
     "user": {
      "displayName": "Akari Tajima",
      "userId": "14232977932295828397"
     },
     "user_tz": 420
    },
    "id": "AvGqJEuY1_ep",
    "outputId": "9a24c346-ee2a-4b14-d3db-2b1bda5d67ba"
   },
   "outputs": [
    {
     "name": "stdout",
     "output_type": "stream",
     "text": [
      "Mounted at /content/gdrive/\n"
     ]
    }
   ],
   "source": [
    "# this step mounts your Google drive to the current Colab runtime\n",
    "from google.colab import drive\n",
    "drive.mount('/content/gdrive/', force_remount=True)"
   ]
  },
  {
   "cell_type": "code",
   "execution_count": null,
   "metadata": {
    "id": "sq0FqRGfQVOF"
   },
   "outputs": [],
   "source": [
    "%%capture\n",
    "! pip install seisbench"
   ]
  },
  {
   "cell_type": "code",
   "execution_count": null,
   "metadata": {
    "colab": {
     "base_uri": "https://localhost:8080/"
    },
    "executionInfo": {
     "elapsed": 208,
     "status": "ok",
     "timestamp": 1717296925314,
     "user": {
      "displayName": "Akari Tajima",
      "userId": "14232977932295828397"
     },
     "user_tz": 420
    },
    "id": "Mkcc4Yz9QVtG",
    "outputId": "966eff99-04a6-404a-8f83-c165a0a8051d"
   },
   "outputs": [
    {
     "name": "stdout",
     "output_type": "stream",
     "text": [
      "Stopping RUNTIME. If you run this code for the first time, this is expected. Colaboratory will restart automatically. Please run again.\n"
     ]
    }
   ],
   "source": [
    "try:\n",
    "    import obspy\n",
    "    obspy.read()\n",
    "except TypeError:\n",
    "    # Needs to restart the runtime once, because obspy only works properly after restart.\n",
    "    print('Stopping RUNTIME. If you run this code for the first time, this is expected. Colaboratory will restart automatically. Please run again.')\n",
    "    exit()"
   ]
  },
  {
   "cell_type": "code",
   "execution_count": null,
   "metadata": {
    "id": "sP_3Gz1Cvqm3"
   },
   "outputs": [],
   "source": [
    "import seisbench.data as sbd\n",
    "import seisbench.generate as sbg\n",
    "import seisbench.models as sbm\n",
    "from seisbench.util import worker_seeding\n",
    "from geopy.geocoders import Nominatim\n",
    "from collections import Counter\n",
    "\n",
    "import numpy as np\n",
    "import matplotlib.pyplot as plt\n",
    "import torch\n",
    "from torch.utils.data import DataLoader\n",
    "from obspy.clients.fdsn import Client\n",
    "from obspy import UTCDateTime\n",
    "import h5py\n",
    "import pandas as pd\n",
    "import math"
   ]
  },
  {
   "cell_type": "code",
   "execution_count": 2,
   "metadata": {
    "executionInfo": {
     "elapsed": 756,
     "status": "ok",
     "timestamp": 1717361434483,
     "user": {
      "displayName": "Akari Tajima",
      "userId": "14232977932295828397"
     },
     "user_tz": 420
    },
    "id": "i0Wz9e-Ndi4h"
   },
   "outputs": [],
   "source": [
    "import pandas as pd\n",
    "import h5py\n",
    "import numpy as np\n",
    "import matplotlib.pyplot as plt\n",
    "from geopy.geocoders import Nominatim\n",
    "from collections import Counter"
   ]
  },
  {
   "cell_type": "code",
   "execution_count": 3,
   "metadata": {
    "colab": {
     "base_uri": "https://localhost:8080/"
    },
    "collapsed": true,
    "executionInfo": {
     "elapsed": 586,
     "status": "ok",
     "timestamp": 1717361435313,
     "user": {
      "displayName": "Akari Tajima",
      "userId": "14232977932295828397"
     },
     "user_tz": 420
    },
    "id": "XNMX2h8FkGD2",
    "outputId": "0d2839d3-86e5-4928-cc9b-2e6aa026e4e8"
   },
   "outputs": [
    {
     "name": "stdout",
     "output_type": "stream",
     "text": [
      "/content/gdrive/.shortcut-targets-by-id/1kkgdA-hKtghS6jCSGo9StdGqoqNNek2i/CSE 547 Project/STEAD Data\n"
     ]
    }
   ],
   "source": [
    "# Move to STEAD folder\n",
    "%cd /content/gdrive/MyDrive/path_to_STEAD_data"
   ]
  },
  {
   "cell_type": "markdown",
   "metadata": {
    "id": "QL4jIjniUbst"
   },
   "source": [
    "## Load in Data"
   ]
  },
  {
   "cell_type": "code",
   "execution_count": 4,
   "metadata": {
    "colab": {
     "base_uri": "https://localhost:8080/"
    },
    "executionInfo": {
     "elapsed": 1362,
     "status": "ok",
     "timestamp": 1717361437932,
     "user": {
      "displayName": "Akari Tajima",
      "userId": "14232977932295828397"
     },
     "user_tz": 420
    },
    "id": "6FD-WdDyBPNp",
    "outputId": "62b295b2-fe60-48ac-d257-7623fe06b02d"
   },
   "outputs": [
    {
     "name": "stderr",
     "output_type": "stream",
     "text": [
      "<ipython-input-4-5975341b8da8>:1: DtypeWarning: Columns (26) have mixed types. Specify dtype option on import or set low_memory=False.\n",
      "  data = pd.read_csv('./seisbench_data/full_data_ratio/metadata_fullr.csv')\n"
     ]
    }
   ],
   "source": [
    "data = pd.read_csv('./seisbench_data/full_data_ratio/metadata_fullr.csv')"
   ]
  },
  {
   "cell_type": "code",
   "execution_count": 5,
   "metadata": {
    "executionInfo": {
     "elapsed": 651,
     "status": "ok",
     "timestamp": 1717361441804,
     "user": {
      "displayName": "Akari Tajima",
      "userId": "14232977932295828397"
     },
     "user_tz": 420
    },
    "id": "8SjpPqhlhd_t"
   },
   "outputs": [],
   "source": [
    "data_locations = pd.read_csv('./full_locations.csv')"
   ]
  },
  {
   "cell_type": "code",
   "execution_count": 6,
   "metadata": {
    "colab": {
     "base_uri": "https://localhost:8080/"
    },
    "executionInfo": {
     "elapsed": 4,
     "status": "ok",
     "timestamp": 1717361443064,
     "user": {
      "displayName": "Akari Tajima",
      "userId": "14232977932295828397"
     },
     "user_tz": 420
    },
    "id": "qg-F9IfyoU4Q",
    "outputId": "cd9307be-6220-43b5-de4c-49597c6ee8d4"
   },
   "outputs": [
    {
     "data": {
      "text/plain": [
       "Index(['station_network_code', 'station_code', 'trace_channel',\n",
       "       'station_latitude_deg', 'station_longitude_deg', 'station_elevation_m',\n",
       "       'trace_p_arrival_sample', 'trace_p_status', 'trace_p_weight',\n",
       "       'path_p_travel_sec', 'trace_s_arrival_sample', 'trace_s_status',\n",
       "       'trace_s_weight', 'source_id', 'source_origin_time',\n",
       "       'source_origin_uncertainty_sec', 'source_latitude_deg',\n",
       "       'source_longitude_deg', 'source_error_sec', 'source_gap_deg',\n",
       "       'source_horizontal_uncertainty_km', 'source_depth_km',\n",
       "       'source_depth_uncertainty_km', 'source_magnitude',\n",
       "       'source_magnitude_type', 'source_magnitude_author',\n",
       "       'source_mechanism_strike_dip_rake', 'source_distance_deg',\n",
       "       'source_distance_km', 'path_back_azimuth_deg', 'trace_snr_db',\n",
       "       'trace_coda_end_sample', 'trace_start_time', 'trace_category',\n",
       "       'trace_name', 'split', 'trace_name_original'],\n",
       "      dtype='object')"
      ]
     },
     "execution_count": 6,
     "metadata": {},
     "output_type": "execute_result"
    }
   ],
   "source": [
    "data.columns"
   ]
  },
  {
   "cell_type": "markdown",
   "metadata": {
    "id": "CtYNioqoFpNz"
   },
   "source": [
    "## EDA"
   ]
  },
  {
   "cell_type": "code",
   "execution_count": 12,
   "metadata": {
    "colab": {
     "base_uri": "https://localhost:8080/"
    },
    "executionInfo": {
     "elapsed": 1,
     "status": "ok",
     "timestamp": 1717361537003,
     "user": {
      "displayName": "Akari Tajima",
      "userId": "14232977932295828397"
     },
     "user_tz": 420
    },
    "id": "q12siyoeuAtT",
    "outputId": "bbe4398e-a159-4521-d94a-3372a65fe430"
   },
   "outputs": [
    {
     "data": {
      "text/plain": [
       "[('manual', 14564), ('autopicker', 5247), (nan, 3350), ('automatic', 189)]"
      ]
     },
     "execution_count": 12,
     "metadata": {},
     "output_type": "execute_result"
    }
   ],
   "source": [
    "count_labelling_method = Counter(data['trace_p_status'])\n",
    "count_labelling_method.most_common()"
   ]
  },
  {
   "cell_type": "code",
   "execution_count": 17,
   "metadata": {
    "colab": {
     "base_uri": "https://localhost:8080/"
    },
    "executionInfo": {
     "elapsed": 5,
     "status": "ok",
     "timestamp": 1717361696657,
     "user": {
      "displayName": "Akari Tajima",
      "userId": "14232977932295828397"
     },
     "user_tz": 420
    },
    "id": "4WXDmpFHuYyY",
    "outputId": "5e0a5bd3-75cf-43f8-e039-f893c068d50f"
   },
   "outputs": [
    {
     "name": "stdout",
     "output_type": "stream",
     "text": [
      "manual percentage: 0.7273\n",
      "some auto percentage: 0.2718\n"
     ]
    }
   ],
   "source": [
    "# manual 14564\n",
    "# autopicker 5247\n",
    "# automatic 189\n",
    "print('manual percentage:', 14546 / (14564 + 5247 + 189) )\n",
    "print('some auto percentage:', (5247 + 189) / (14564 + 5247 + 189) )"
   ]
  },
  {
   "cell_type": "code",
   "execution_count": null,
   "metadata": {
    "colab": {
     "base_uri": "https://localhost:8080/",
     "height": 300
    },
    "executionInfo": {
     "elapsed": 220,
     "status": "ok",
     "timestamp": 1717112948582,
     "user": {
      "displayName": "Akari Tajima",
      "userId": "14232977932295828397"
     },
     "user_tz": 420
    },
    "id": "pGfdAWCr53BM",
    "outputId": "ef9444f6-1b6d-4954-ab53-d5c34959f4ca"
   },
   "outputs": [
    {
     "data": {
      "application/vnd.google.colaboratory.intrinsic+json": {
       "summary": "{\n  \"name\": \"data[['source_magnitude']]\",\n  \"rows\": 8,\n  \"fields\": [\n    {\n      \"column\": \"source_magnitude\",\n      \"properties\": {\n        \"dtype\": \"number\",\n        \"std\": 7070.474998505839,\n        \"min\": 0.0,\n        \"max\": 20000.0,\n        \"num_unique_values\": 8,\n        \"samples\": [\n          1.323681,\n          1.11,\n          20000.0\n        ],\n        \"semantic_type\": \"\",\n        \"description\": \"\"\n      }\n    }\n  ]\n}",
       "type": "dataframe"
      },
      "text/html": [
       "\n",
       "  <div id=\"df-e73c837f-2aea-49a7-b1ff-ac8220a1d1e1\" class=\"colab-df-container\">\n",
       "    <div>\n",
       "<style scoped>\n",
       "    .dataframe tbody tr th:only-of-type {\n",
       "        vertical-align: middle;\n",
       "    }\n",
       "\n",
       "    .dataframe tbody tr th {\n",
       "        vertical-align: top;\n",
       "    }\n",
       "\n",
       "    .dataframe thead th {\n",
       "        text-align: right;\n",
       "    }\n",
       "</style>\n",
       "<table border=\"1\" class=\"dataframe\">\n",
       "  <thead>\n",
       "    <tr style=\"text-align: right;\">\n",
       "      <th></th>\n",
       "      <th>source_magnitude</th>\n",
       "    </tr>\n",
       "  </thead>\n",
       "  <tbody>\n",
       "    <tr>\n",
       "      <th>count</th>\n",
       "      <td>20000.000000</td>\n",
       "    </tr>\n",
       "    <tr>\n",
       "      <th>mean</th>\n",
       "      <td>1.323681</td>\n",
       "    </tr>\n",
       "    <tr>\n",
       "      <th>std</th>\n",
       "      <td>0.848140</td>\n",
       "    </tr>\n",
       "    <tr>\n",
       "      <th>min</th>\n",
       "      <td>0.000000</td>\n",
       "    </tr>\n",
       "    <tr>\n",
       "      <th>25%</th>\n",
       "      <td>0.710000</td>\n",
       "    </tr>\n",
       "    <tr>\n",
       "      <th>50%</th>\n",
       "      <td>1.110000</td>\n",
       "    </tr>\n",
       "    <tr>\n",
       "      <th>75%</th>\n",
       "      <td>1.750000</td>\n",
       "    </tr>\n",
       "    <tr>\n",
       "      <th>max</th>\n",
       "      <td>6.000000</td>\n",
       "    </tr>\n",
       "  </tbody>\n",
       "</table>\n",
       "</div>\n",
       "    <div class=\"colab-df-buttons\">\n",
       "\n",
       "  <div class=\"colab-df-container\">\n",
       "    <button class=\"colab-df-convert\" onclick=\"convertToInteractive('df-e73c837f-2aea-49a7-b1ff-ac8220a1d1e1')\"\n",
       "            title=\"Convert this dataframe to an interactive table.\"\n",
       "            style=\"display:none;\">\n",
       "\n",
       "  <svg xmlns=\"http://www.w3.org/2000/svg\" height=\"24px\" viewBox=\"0 -960 960 960\">\n",
       "    <path d=\"M120-120v-720h720v720H120Zm60-500h600v-160H180v160Zm220 220h160v-160H400v160Zm0 220h160v-160H400v160ZM180-400h160v-160H180v160Zm440 0h160v-160H620v160ZM180-180h160v-160H180v160Zm440 0h160v-160H620v160Z\"/>\n",
       "  </svg>\n",
       "    </button>\n",
       "\n",
       "  <style>\n",
       "    .colab-df-container {\n",
       "      display:flex;\n",
       "      gap: 12px;\n",
       "    }\n",
       "\n",
       "    .colab-df-convert {\n",
       "      background-color: #E8F0FE;\n",
       "      border: none;\n",
       "      border-radius: 50%;\n",
       "      cursor: pointer;\n",
       "      display: none;\n",
       "      fill: #1967D2;\n",
       "      height: 32px;\n",
       "      padding: 0 0 0 0;\n",
       "      width: 32px;\n",
       "    }\n",
       "\n",
       "    .colab-df-convert:hover {\n",
       "      background-color: #E2EBFA;\n",
       "      box-shadow: 0px 1px 2px rgba(60, 64, 67, 0.3), 0px 1px 3px 1px rgba(60, 64, 67, 0.15);\n",
       "      fill: #174EA6;\n",
       "    }\n",
       "\n",
       "    .colab-df-buttons div {\n",
       "      margin-bottom: 4px;\n",
       "    }\n",
       "\n",
       "    [theme=dark] .colab-df-convert {\n",
       "      background-color: #3B4455;\n",
       "      fill: #D2E3FC;\n",
       "    }\n",
       "\n",
       "    [theme=dark] .colab-df-convert:hover {\n",
       "      background-color: #434B5C;\n",
       "      box-shadow: 0px 1px 3px 1px rgba(0, 0, 0, 0.15);\n",
       "      filter: drop-shadow(0px 1px 2px rgba(0, 0, 0, 0.3));\n",
       "      fill: #FFFFFF;\n",
       "    }\n",
       "  </style>\n",
       "\n",
       "    <script>\n",
       "      const buttonEl =\n",
       "        document.querySelector('#df-e73c837f-2aea-49a7-b1ff-ac8220a1d1e1 button.colab-df-convert');\n",
       "      buttonEl.style.display =\n",
       "        google.colab.kernel.accessAllowed ? 'block' : 'none';\n",
       "\n",
       "      async function convertToInteractive(key) {\n",
       "        const element = document.querySelector('#df-e73c837f-2aea-49a7-b1ff-ac8220a1d1e1');\n",
       "        const dataTable =\n",
       "          await google.colab.kernel.invokeFunction('convertToInteractive',\n",
       "                                                    [key], {});\n",
       "        if (!dataTable) return;\n",
       "\n",
       "        const docLinkHtml = 'Like what you see? Visit the ' +\n",
       "          '<a target=\"_blank\" href=https://colab.research.google.com/notebooks/data_table.ipynb>data table notebook</a>'\n",
       "          + ' to learn more about interactive tables.';\n",
       "        element.innerHTML = '';\n",
       "        dataTable['output_type'] = 'display_data';\n",
       "        await google.colab.output.renderOutput(dataTable, element);\n",
       "        const docLink = document.createElement('div');\n",
       "        docLink.innerHTML = docLinkHtml;\n",
       "        element.appendChild(docLink);\n",
       "      }\n",
       "    </script>\n",
       "  </div>\n",
       "\n",
       "\n",
       "<div id=\"df-78ca1c3f-8e60-4fc0-8212-82eb2b567aaf\">\n",
       "  <button class=\"colab-df-quickchart\" onclick=\"quickchart('df-78ca1c3f-8e60-4fc0-8212-82eb2b567aaf')\"\n",
       "            title=\"Suggest charts\"\n",
       "            style=\"display:none;\">\n",
       "\n",
       "<svg xmlns=\"http://www.w3.org/2000/svg\" height=\"24px\"viewBox=\"0 0 24 24\"\n",
       "     width=\"24px\">\n",
       "    <g>\n",
       "        <path d=\"M19 3H5c-1.1 0-2 .9-2 2v14c0 1.1.9 2 2 2h14c1.1 0 2-.9 2-2V5c0-1.1-.9-2-2-2zM9 17H7v-7h2v7zm4 0h-2V7h2v10zm4 0h-2v-4h2v4z\"/>\n",
       "    </g>\n",
       "</svg>\n",
       "  </button>\n",
       "\n",
       "<style>\n",
       "  .colab-df-quickchart {\n",
       "      --bg-color: #E8F0FE;\n",
       "      --fill-color: #1967D2;\n",
       "      --hover-bg-color: #E2EBFA;\n",
       "      --hover-fill-color: #174EA6;\n",
       "      --disabled-fill-color: #AAA;\n",
       "      --disabled-bg-color: #DDD;\n",
       "  }\n",
       "\n",
       "  [theme=dark] .colab-df-quickchart {\n",
       "      --bg-color: #3B4455;\n",
       "      --fill-color: #D2E3FC;\n",
       "      --hover-bg-color: #434B5C;\n",
       "      --hover-fill-color: #FFFFFF;\n",
       "      --disabled-bg-color: #3B4455;\n",
       "      --disabled-fill-color: #666;\n",
       "  }\n",
       "\n",
       "  .colab-df-quickchart {\n",
       "    background-color: var(--bg-color);\n",
       "    border: none;\n",
       "    border-radius: 50%;\n",
       "    cursor: pointer;\n",
       "    display: none;\n",
       "    fill: var(--fill-color);\n",
       "    height: 32px;\n",
       "    padding: 0;\n",
       "    width: 32px;\n",
       "  }\n",
       "\n",
       "  .colab-df-quickchart:hover {\n",
       "    background-color: var(--hover-bg-color);\n",
       "    box-shadow: 0 1px 2px rgba(60, 64, 67, 0.3), 0 1px 3px 1px rgba(60, 64, 67, 0.15);\n",
       "    fill: var(--button-hover-fill-color);\n",
       "  }\n",
       "\n",
       "  .colab-df-quickchart-complete:disabled,\n",
       "  .colab-df-quickchart-complete:disabled:hover {\n",
       "    background-color: var(--disabled-bg-color);\n",
       "    fill: var(--disabled-fill-color);\n",
       "    box-shadow: none;\n",
       "  }\n",
       "\n",
       "  .colab-df-spinner {\n",
       "    border: 2px solid var(--fill-color);\n",
       "    border-color: transparent;\n",
       "    border-bottom-color: var(--fill-color);\n",
       "    animation:\n",
       "      spin 1s steps(1) infinite;\n",
       "  }\n",
       "\n",
       "  @keyframes spin {\n",
       "    0% {\n",
       "      border-color: transparent;\n",
       "      border-bottom-color: var(--fill-color);\n",
       "      border-left-color: var(--fill-color);\n",
       "    }\n",
       "    20% {\n",
       "      border-color: transparent;\n",
       "      border-left-color: var(--fill-color);\n",
       "      border-top-color: var(--fill-color);\n",
       "    }\n",
       "    30% {\n",
       "      border-color: transparent;\n",
       "      border-left-color: var(--fill-color);\n",
       "      border-top-color: var(--fill-color);\n",
       "      border-right-color: var(--fill-color);\n",
       "    }\n",
       "    40% {\n",
       "      border-color: transparent;\n",
       "      border-right-color: var(--fill-color);\n",
       "      border-top-color: var(--fill-color);\n",
       "    }\n",
       "    60% {\n",
       "      border-color: transparent;\n",
       "      border-right-color: var(--fill-color);\n",
       "    }\n",
       "    80% {\n",
       "      border-color: transparent;\n",
       "      border-right-color: var(--fill-color);\n",
       "      border-bottom-color: var(--fill-color);\n",
       "    }\n",
       "    90% {\n",
       "      border-color: transparent;\n",
       "      border-bottom-color: var(--fill-color);\n",
       "    }\n",
       "  }\n",
       "</style>\n",
       "\n",
       "  <script>\n",
       "    async function quickchart(key) {\n",
       "      const quickchartButtonEl =\n",
       "        document.querySelector('#' + key + ' button');\n",
       "      quickchartButtonEl.disabled = true;  // To prevent multiple clicks.\n",
       "      quickchartButtonEl.classList.add('colab-df-spinner');\n",
       "      try {\n",
       "        const charts = await google.colab.kernel.invokeFunction(\n",
       "            'suggestCharts', [key], {});\n",
       "      } catch (error) {\n",
       "        console.error('Error during call to suggestCharts:', error);\n",
       "      }\n",
       "      quickchartButtonEl.classList.remove('colab-df-spinner');\n",
       "      quickchartButtonEl.classList.add('colab-df-quickchart-complete');\n",
       "    }\n",
       "    (() => {\n",
       "      let quickchartButtonEl =\n",
       "        document.querySelector('#df-78ca1c3f-8e60-4fc0-8212-82eb2b567aaf button');\n",
       "      quickchartButtonEl.style.display =\n",
       "        google.colab.kernel.accessAllowed ? 'block' : 'none';\n",
       "    })();\n",
       "  </script>\n",
       "</div>\n",
       "    </div>\n",
       "  </div>\n"
      ],
      "text/plain": [
       "       source_magnitude\n",
       "count      20000.000000\n",
       "mean           1.323681\n",
       "std            0.848140\n",
       "min            0.000000\n",
       "25%            0.710000\n",
       "50%            1.110000\n",
       "75%            1.750000\n",
       "max            6.000000"
      ]
     },
     "execution_count": 7,
     "metadata": {},
     "output_type": "execute_result"
    }
   ],
   "source": [
    "data[['source_magnitude']].describe()"
   ]
  },
  {
   "cell_type": "code",
   "execution_count": 33,
   "metadata": {
    "colab": {
     "base_uri": "https://localhost:8080/"
    },
    "executionInfo": {
     "elapsed": 161,
     "status": "ok",
     "timestamp": 1717370740700,
     "user": {
      "displayName": "Akari Tajima",
      "userId": "14232977932295828397"
     },
     "user_tz": 420
    },
    "id": "71jcRFOURcIq",
    "outputId": "1016aa06-0662-43aa-e3c6-05946e3e9116"
   },
   "outputs": [
    {
     "data": {
      "text/plain": [
       "0.8481187771998685"
      ]
     },
     "execution_count": 33,
     "metadata": {},
     "output_type": "execute_result"
    }
   ],
   "source": [
    "np.std(data['source_magnitude'])"
   ]
  },
  {
   "cell_type": "code",
   "execution_count": null,
   "metadata": {
    "colab": {
     "base_uri": "https://localhost:8080/",
     "height": 489
    },
    "executionInfo": {
     "elapsed": 1633,
     "status": "ok",
     "timestamp": 1717041024369,
     "user": {
      "displayName": "Akari Tajima",
      "userId": "14232977932295828397"
     },
     "user_tz": 420
    },
    "id": "K8VhuODnopIr",
    "outputId": "6dddb451-5350-4464-8393-99f5059d4c48"
   },
   "outputs": [
    {
     "data": {
      "text/plain": [
       "Text(0, 0.5, 'Count')"
      ]
     },
     "execution_count": 56,
     "metadata": {},
     "output_type": "execute_result"
    },
    {
     "data": {
      "image/png": "[encoded data removed]",
      "text/plain": [
       "<Figure size 640x480 with 1 Axes>"
      ]
     },
     "metadata": {},
     "output_type": "display_data"
    }
   ],
   "source": [
    "plt.hist(data['source_magnitude'], bins=30, edgecolor = \"black\")\n",
    "plt.title('Magntiude Histogram')\n",
    "plt.xlabel('Magnitude')\n",
    "plt.ylabel('Count')"
   ]
  },
  {
   "cell_type": "code",
   "execution_count": null,
   "metadata": {
    "colab": {
     "base_uri": "https://localhost:8080/",
     "height": 489
    },
    "executionInfo": {
     "elapsed": 1496,
     "status": "ok",
     "timestamp": 1717041028626,
     "user": {
      "displayName": "Akari Tajima",
      "userId": "14232977932295828397"
     },
     "user_tz": 420
    },
    "id": "8EntK4IfqOBR",
    "outputId": "e7953676-8f7a-4a78-fd89-de335134de60"
   },
   "outputs": [
    {
     "data": {
      "text/plain": [
       "Text(0, 0.5, 'Count')"
      ]
     },
     "execution_count": 57,
     "metadata": {},
     "output_type": "execute_result"
    },
    {
     "data": {
      "image/png": "[encoded data removed]",
      "text/plain": [
       "<Figure size 640x480 with 1 Axes>"
      ]
     },
     "metadata": {},
     "output_type": "display_data"
    }
   ],
   "source": [
    "plt.hist(data['source_depth_km'], bins=30, edgecolor = \"black\")\n",
    "plt.title('Source Depth Histogram')\n",
    "plt.xlabel('Source Depth (km)')\n",
    "plt.ylabel('Count')"
   ]
  },
  {
   "cell_type": "code",
   "execution_count": null,
   "metadata": {
    "colab": {
     "base_uri": "https://localhost:8080/",
     "height": 489
    },
    "executionInfo": {
     "elapsed": 878,
     "status": "ok",
     "timestamp": 1717041843647,
     "user": {
      "displayName": "Akari Tajima",
      "userId": "14232977932295828397"
     },
     "user_tz": 420
    },
    "id": "7uTncNCNq9jO",
    "outputId": "eb38f32c-cc27-4c0f-d63e-df8385c89db1"
   },
   "outputs": [
    {
     "data": {
      "text/plain": [
       "Text(0, 0.5, 'Longitude')"
      ]
     },
     "execution_count": 58,
     "metadata": {},
     "output_type": "execute_result"
    },
    {
     "data": {
      "image/png": "[encoded data removed]",
      "text/plain": [
       "<Figure size 640x480 with 1 Axes>"
      ]
     },
     "metadata": {},
     "output_type": "display_data"
    }
   ],
   "source": [
    "# Despite selecting randomly, I guess the there are locations with\n",
    "# substantially more data pts.\n",
    "plt.scatter(data['station_latitude_deg'], data['station_longitude_deg'], marker='.')\n",
    "plt.title('Latitude-Longitude')\n",
    "plt.xlabel('Latitude')\n",
    "plt.ylabel('Longitude')"
   ]
  },
  {
   "cell_type": "code",
   "execution_count": 18,
   "metadata": {
    "executionInfo": {
     "elapsed": 186,
     "status": "ok",
     "timestamp": 1717367228043,
     "user": {
      "displayName": "Akari Tajima",
      "userId": "14232977932295828397"
     },
     "user_tz": 420
    },
    "id": "sCouOPksuVzk"
   },
   "outputs": [],
   "source": [
    "n = 5\n",
    "data_eq = data[data['trace_category'] == 'earthquake_local']\n",
    "count = Counter(data_eq['station_code'])\n",
    "n_most_common = count.most_common(n)\n",
    "n_most_common_counts = [n_most_common[i][1] for i in range(n)]\n",
    "n_most_common_name = [n_most_common[i][0] for i in range(n)]\n",
    "total_count = len(data_eq) #len(data['station_code'])\n",
    "other_count = total_count - np.sum(n_most_common_counts)"
   ]
  },
  {
   "cell_type": "code",
   "execution_count": 31,
   "metadata": {
    "colab": {
     "base_uri": "https://localhost:8080/"
    },
    "executionInfo": {
     "elapsed": 152,
     "status": "ok",
     "timestamp": 1717367842093,
     "user": {
      "displayName": "Akari Tajima",
      "userId": "14232977932295828397"
     },
     "user_tz": 420
    },
    "id": "-81u9kkKGVI-",
    "outputId": "d4bf7519-616a-48bc-f37d-8e7caaaa1872"
   },
   "outputs": [
    {
     "data": {
      "text/plain": [
       "141"
      ]
     },
     "execution_count": 31,
     "metadata": {},
     "output_type": "execute_result"
    }
   ],
   "source": [
    "len(data_eq['station_code'].drop_duplicates())"
   ]
  },
  {
   "cell_type": "code",
   "execution_count": 28,
   "metadata": {
    "colab": {
     "base_uri": "https://localhost:8080/"
    },
    "executionInfo": {
     "elapsed": 150,
     "status": "ok",
     "timestamp": 1717367751660,
     "user": {
      "displayName": "Akari Tajima",
      "userId": "14232977932295828397"
     },
     "user_tz": 420
    },
    "id": "X6iN58NHEEt4",
    "outputId": "a3e1e133-cf20-424e-87f5-371c4a5a44a3"
   },
   "outputs": [
    {
     "data": {
      "text/plain": [
       "Counter({'109C': 42,\n",
       "         '112A': 5,\n",
       "         '155A': 1,\n",
       "         '191': 1,\n",
       "         '262': 1,\n",
       "         'A04D': 26,\n",
       "         'A05A': 10,\n",
       "         'A06A': 3,\n",
       "         'A07A': 1,\n",
       "         'A11A': 1,\n",
       "         'A13A': 1,\n",
       "         'A16': 1,\n",
       "         'AA01': 1,\n",
       "         'AA12': 1,\n",
       "         'AAK': 3,\n",
       "         'AAM1': 124,\n",
       "         'AAM2': 126,\n",
       "         'AAM3': 92,\n",
       "         'AAM4': 12,\n",
       "         'ABKAR': 3,\n",
       "         'ABVI': 2,\n",
       "         'AC04': 12,\n",
       "         'AC05': 9,\n",
       "         'ACCN': 9,\n",
       "         'ACH': 55,\n",
       "         'ACOM': 10,\n",
       "         'ACOR': 2,\n",
       "         'ADO': 27,\n",
       "         'ADVT': 2,\n",
       "         'AFD': 27,\n",
       "         'AGG': 36,\n",
       "         'AGPR': 54,\n",
       "         'AHID': 9,\n",
       "         'AHUD': 498,\n",
       "         'AIND': 283,\n",
       "         'AKBB': 25,\n",
       "         'AKGG': 40,\n",
       "         'AKH': 20,\n",
       "         'AKLV': 55,\n",
       "         'AKMO': 48,\n",
       "         'AKRB': 64,\n",
       "         'AKS': 69,\n",
       "         'AKSA': 51,\n",
       "         'AKUT': 59,\n",
       "         'AKV': 7,\n",
       "         'AL5S': 6,\n",
       "         'ALEP': 347,\n",
       "         'ALFO': 3,\n",
       "         'ALLY': 3,\n",
       "         'ALN': 60,\n",
       "         'ALP': 36,\n",
       "         'AMD': 129,\n",
       "         'AMKA': 146,\n",
       "         'AMT': 63,\n",
       "         'ANCK': 54,\n",
       "         'ANGG': 22,\n",
       "         'ANM': 13,\n",
       "         'ANVS': 20,\n",
       "         'AOI': 2,\n",
       "         'AOPR': 115,\n",
       "         'AOS': 35,\n",
       "         'APPI': 6,\n",
       "         'AQU': 19,\n",
       "         'ARBF': 2,\n",
       "         'ARBS': 1,\n",
       "         'ARG': 76,\n",
       "         'ARK': 34,\n",
       "         'ARLS': 33,\n",
       "         'ARMT': 2,\n",
       "         'ARSB': 30,\n",
       "         'ARTF': 7,\n",
       "         'ARV': 33,\n",
       "         'ASBU': 2,\n",
       "         'ASSB': 8,\n",
       "         'ASTN': 5,\n",
       "         'ATAL': 27,\n",
       "         'ATE': 4,\n",
       "         'ATH': 21,\n",
       "         'ATHU': 6,\n",
       "         'ATKA': 144,\n",
       "         'AU22': 36,\n",
       "         'AUCH': 12,\n",
       "         'AUI': 34,\n",
       "         'AUL': 59,\n",
       "         'AUQ': 7,\n",
       "         'AUSB': 64,\n",
       "         'AUWS': 14,\n",
       "         'AVM': 3,\n",
       "         'AYDN': 1,\n",
       "         'B001': 63,\n",
       "         'B003': 15,\n",
       "         'B004': 26,\n",
       "         'B005': 22,\n",
       "         'B006': 24,\n",
       "         'B007': 12,\n",
       "         'B011': 68,\n",
       "         'B012': 9,\n",
       "         'B013': 102,\n",
       "         'B014': 23,\n",
       "         'B017': 1,\n",
       "         'B018': 92,\n",
       "         'B019': 7,\n",
       "         'B020': 3,\n",
       "         'B022': 3,\n",
       "         'B023': 43,\n",
       "         'B024': 4,\n",
       "         'B026': 13,\n",
       "         'B028': 11,\n",
       "         'B030': 17,\n",
       "         'B032': 8,\n",
       "         'B033': 5,\n",
       "         'B035': 7,\n",
       "         'B036': 2,\n",
       "         'B039': 13,\n",
       "         'B040': 27,\n",
       "         'B045': 141,\n",
       "         'B046': 186,\n",
       "         'B047': 145,\n",
       "         'B049': 116,\n",
       "         'B04A': 6,\n",
       "         'B054': 110,\n",
       "         'B057': 68,\n",
       "         'B058': 190,\n",
       "         'B05A': 6,\n",
       "         'B05D': 73,\n",
       "         'B065': 435,\n",
       "         'B066': 61,\n",
       "         'B067': 262,\n",
       "         'B06A': 4,\n",
       "         'B072': 109,\n",
       "         'B073': 188,\n",
       "         'B075': 180,\n",
       "         'B076': 156,\n",
       "         'B078': 99,\n",
       "         'B079': 55,\n",
       "         'B07A': 2,\n",
       "         'B081': 2765,\n",
       "         'B082': 4232,\n",
       "         'B084': 3865,\n",
       "         'B086': 1539,\n",
       "         'B087': 715})"
      ]
     },
     "execution_count": 28,
     "metadata": {},
     "output_type": "execute_result"
    }
   ],
   "source": [
    "count"
   ]
  },
  {
   "cell_type": "code",
   "execution_count": null,
   "metadata": {
    "id": "d-FkwNG3h8mi"
   },
   "outputs": [],
   "source": [
    "n_most_common_names = [data_locations[data_locations['station_code']== name].iloc[0]['locations'] for name in n_most_common_name]"
   ]
  },
  {
   "cell_type": "code",
   "execution_count": null,
   "metadata": {
    "colab": {
     "base_uri": "https://localhost:8080/",
     "height": 445
    },
    "executionInfo": {
     "elapsed": 618,
     "status": "ok",
     "timestamp": 1717113789026,
     "user": {
      "displayName": "Akari Tajima",
      "userId": "14232977932295828397"
     },
     "user_tz": 420
    },
    "id": "U47W0jUxv8Bc",
    "outputId": "25e20f53-548e-4996-cadc-60a3e941111c"
   },
   "outputs": [
    {
     "data": {
      "text/plain": [
       "Text(0.5, 1.0, 'Distribution of Locations')"
      ]
     },
     "execution_count": 41,
     "metadata": {},
     "output_type": "execute_result"
    },
    {
     "data": {
      "image/png": "[encoded data removed]",
      "text/plain": [
       "<Figure size 640x480 with 1 Axes>"
      ]
     },
     "metadata": {},
     "output_type": "display_data"
    }
   ],
   "source": [
    "counts = n_most_common_counts + [other_count]\n",
    "names = n_most_common_names + ['other']\n",
    "plt.pie(counts, labels=names, autopct='%1.1f%%')\n",
    "plt.title('Distribution of Locations')"
   ]
  },
  {
   "cell_type": "code",
   "execution_count": null,
   "metadata": {
    "colab": {
     "base_uri": "https://localhost:8080/"
    },
    "executionInfo": {
     "elapsed": 1,
     "status": "ok",
     "timestamp": 1717113857322,
     "user": {
      "displayName": "Akari Tajima",
      "userId": "14232977932295828397"
     },
     "user_tz": 420
    },
    "id": "zOqIZUQU7auR",
    "outputId": "ea9f0dc7-4843-429b-c9a9-5569ae84bd18"
   },
   "outputs": [
    {
     "data": {
      "text/plain": [
       "65.58"
      ]
     },
     "execution_count": 42,
     "metadata": {},
     "output_type": "execute_result"
    }
   ],
   "source": [
    "np.sum(n_most_common_counts)/ total_count * 100"
   ]
  },
  {
   "cell_type": "code",
   "execution_count": null,
   "metadata": {
    "colab": {
     "base_uri": "https://localhost:8080/"
    },
    "executionInfo": {
     "elapsed": 3,
     "status": "ok",
     "timestamp": 1717113358682,
     "user": {
      "displayName": "Akari Tajima",
      "userId": "14232977932295828397"
     },
     "user_tz": 420
    },
    "id": "f4aEoIJI7m8i",
    "outputId": "b5b9c62c-fabe-4690-9358-71cf4f14a959"
   },
   "outputs": [
    {
     "data": {
      "text/plain": [
       "['Pathfinder Ranch, Pathfinder Road, Riverside County, California, United States',\n",
       " 'Materhorn View, Alpine Village, Riverside County, California, 92261, United States',\n",
       " 'Lower South Ridge, Mountain Center, Riverside County, California, 92549, United States',\n",
       " 'BIA 24, New Santa Rosa, Riverside County, California, United States',\n",
       " 'Coyote Canyon Road, Riverside County, California, United States',\n",
       " 'Hawaiʻi County, Hawaii, United States',\n",
       " 'Monterey County, California, United States',\n",
       " 'Hawaiʻi County, Hawaii, United States',\n",
       " 'other']"
      ]
     },
     "execution_count": 17,
     "metadata": {},
     "output_type": "execute_result"
    }
   ],
   "source": [
    "names"
   ]
  },
  {
   "cell_type": "code",
   "execution_count": null,
   "metadata": {
    "colab": {
     "base_uri": "https://localhost:8080/",
     "height": 677
    },
    "executionInfo": {
     "elapsed": 183,
     "status": "ok",
     "timestamp": 1717040019392,
     "user": {
      "displayName": "Akari Tajima",
      "userId": "14232977932295828397"
     },
     "user_tz": 420
    },
    "id": "W60TTWWVyTmM",
    "outputId": "ad00db82-7072-4ca9-864e-9920627b32fb"
   },
   "outputs": [
    {
     "data": {
      "application/vnd.google.colaboratory.intrinsic+json": {
       "summary": "{\n  \"name\": \"data_locations\",\n  \"rows\": 934,\n  \"fields\": [\n    {\n      \"column\": \"station_code\",\n      \"properties\": {\n        \"dtype\": \"string\",\n        \"num_unique_values\": 901,\n        \"samples\": [\n          \"BARK\",\n          \"GSC\",\n          \"PUHI\"\n        ],\n        \"semantic_type\": \"\",\n        \"description\": \"\"\n      }\n    },\n    {\n      \"column\": \"station_latitude_deg\",\n      \"properties\": {\n        \"dtype\": \"number\",\n        \"std\": 26.81754205364951,\n        \"min\": -77.8492,\n        \"max\": 77.444702,\n        \"num_unique_values\": 919,\n        \"samples\": [\n          34.2623,\n          38.0557,\n          40.1008\n        ],\n        \"semantic_type\": \"\",\n        \"description\": \"\"\n      }\n    },\n    {\n      \"column\": \"station_longitude_deg\",\n      \"properties\": {\n        \"dtype\": \"number\",\n        \"std\": 84.66128316971975,\n        \"min\": -178.8566,\n        \"max\": 179.6277,\n        \"num_unique_values\": 924,\n        \"samples\": [\n          129.59341,\n          23.86388,\n          -165.9647\n        ],\n        \"semantic_type\": \"\",\n        \"description\": \"\"\n      }\n    },\n    {\n      \"column\": \"locations\",\n      \"properties\": {\n        \"dtype\": \"string\",\n        \"num_unique_values\": 796,\n        \"samples\": [\n          \"Culberson County, Texas, United States\",\n          \"25598, Miami Foley Road, Barnesdale, Tillamook County, Oregon, 97131, United States\",\n          \"Cumberland State Forests Headquarters, 751, Oak Hill Road, Cumberland County, Virginia, 23040, United States\"\n        ],\n        \"semantic_type\": \"\",\n        \"description\": \"\"\n      }\n    }\n  ]\n}",
       "type": "dataframe",
       "variable_name": "data_locations"
      },
      "text/html": [
       "\n",
       "  <div id=\"df-f358314d-1bbf-4ecb-8e32-2130d9c6f143\" class=\"colab-df-container\">\n",
       "    <div>\n",
       "<style scoped>\n",
       "    .dataframe tbody tr th:only-of-type {\n",
       "        vertical-align: middle;\n",
       "    }\n",
       "\n",
       "    .dataframe tbody tr th {\n",
       "        vertical-align: top;\n",
       "    }\n",
       "\n",
       "    .dataframe thead th {\n",
       "        text-align: right;\n",
       "    }\n",
       "</style>\n",
       "<table border=\"1\" class=\"dataframe\">\n",
       "  <thead>\n",
       "    <tr style=\"text-align: right;\">\n",
       "      <th></th>\n",
       "      <th>station_code</th>\n",
       "      <th>station_latitude_deg</th>\n",
       "      <th>station_longitude_deg</th>\n",
       "      <th>locations</th>\n",
       "    </tr>\n",
       "  </thead>\n",
       "  <tbody>\n",
       "    <tr>\n",
       "      <th>0</th>\n",
       "      <td>113A</td>\n",
       "      <td>32.768299</td>\n",
       "      <td>-113.766701</td>\n",
       "      <td>Yuma County, Arizona, United States</td>\n",
       "    </tr>\n",
       "    <tr>\n",
       "      <th>1</th>\n",
       "      <td>319A</td>\n",
       "      <td>31.375700</td>\n",
       "      <td>-109.280899</td>\n",
       "      <td>Cochise County, Arizona, United States</td>\n",
       "    </tr>\n",
       "    <tr>\n",
       "      <th>2</th>\n",
       "      <td>A11</td>\n",
       "      <td>47.243100</td>\n",
       "      <td>-70.196900</td>\n",
       "      <td>809, Côte des Chênes, Saint-Jean-Port-Joli, L'...</td>\n",
       "    </tr>\n",
       "    <tr>\n",
       "      <th>3</th>\n",
       "      <td>A16</td>\n",
       "      <td>47.468000</td>\n",
       "      <td>-70.009600</td>\n",
       "      <td>Chemin de la Petite-Anse, De Saint-Just, Riviè...</td>\n",
       "    </tr>\n",
       "    <tr>\n",
       "      <th>4</th>\n",
       "      <td>A21</td>\n",
       "      <td>47.704500</td>\n",
       "      <td>-69.689200</td>\n",
       "      <td>Route Beaulieu, Saint-André-de-Kamouraska, Kam...</td>\n",
       "    </tr>\n",
       "    <tr>\n",
       "      <th>...</th>\n",
       "      <td>...</td>\n",
       "      <td>...</td>\n",
       "      <td>...</td>\n",
       "      <td>...</td>\n",
       "    </tr>\n",
       "    <tr>\n",
       "      <th>929</th>\n",
       "      <td>B081</td>\n",
       "      <td>33.711167</td>\n",
       "      <td>-116.714167</td>\n",
       "      <td>Lower South Ridge, Mountain Center, Riverside ...</td>\n",
       "    </tr>\n",
       "    <tr>\n",
       "      <th>930</th>\n",
       "      <td>B082</td>\n",
       "      <td>33.598182</td>\n",
       "      <td>-116.596005</td>\n",
       "      <td>Pathfinder Ranch, Pathfinder Road, Riverside C...</td>\n",
       "    </tr>\n",
       "    <tr>\n",
       "      <th>931</th>\n",
       "      <td>B084</td>\n",
       "      <td>33.611570</td>\n",
       "      <td>-116.456370</td>\n",
       "      <td>Materhorn View, Alpine Village, Riverside Coun...</td>\n",
       "    </tr>\n",
       "    <tr>\n",
       "      <th>932</th>\n",
       "      <td>B086</td>\n",
       "      <td>33.557500</td>\n",
       "      <td>-116.531000</td>\n",
       "      <td>BIA 24, New Santa Rosa, Riverside County, Cali...</td>\n",
       "    </tr>\n",
       "    <tr>\n",
       "      <th>933</th>\n",
       "      <td>B087</td>\n",
       "      <td>33.495500</td>\n",
       "      <td>-116.602667</td>\n",
       "      <td>Coyote Canyon Road, Riverside County, Californ...</td>\n",
       "    </tr>\n",
       "  </tbody>\n",
       "</table>\n",
       "<p>934 rows × 4 columns</p>\n",
       "</div>\n",
       "    <div class=\"colab-df-buttons\">\n",
       "\n",
       "  <div class=\"colab-df-container\">\n",
       "    <button class=\"colab-df-convert\" onclick=\"convertToInteractive('df-f358314d-1bbf-4ecb-8e32-2130d9c6f143')\"\n",
       "            title=\"Convert this dataframe to an interactive table.\"\n",
       "            style=\"display:none;\">\n",
       "\n",
       "  <svg xmlns=\"http://www.w3.org/2000/svg\" height=\"24px\" viewBox=\"0 -960 960 960\">\n",
       "    <path d=\"M120-120v-720h720v720H120Zm60-500h600v-160H180v160Zm220 220h160v-160H400v160Zm0 220h160v-160H400v160ZM180-400h160v-160H180v160Zm440 0h160v-160H620v160ZM180-180h160v-160H180v160Zm440 0h160v-160H620v160Z\"/>\n",
       "  </svg>\n",
       "    </button>\n",
       "\n",
       "  <style>\n",
       "    .colab-df-container {\n",
       "      display:flex;\n",
       "      gap: 12px;\n",
       "    }\n",
       "\n",
       "    .colab-df-convert {\n",
       "      background-color: #E8F0FE;\n",
       "      border: none;\n",
       "      border-radius: 50%;\n",
       "      cursor: pointer;\n",
       "      display: none;\n",
       "      fill: #1967D2;\n",
       "      height: 32px;\n",
       "      padding: 0 0 0 0;\n",
       "      width: 32px;\n",
       "    }\n",
       "\n",
       "    .colab-df-convert:hover {\n",
       "      background-color: #E2EBFA;\n",
       "      box-shadow: 0px 1px 2px rgba(60, 64, 67, 0.3), 0px 1px 3px 1px rgba(60, 64, 67, 0.15);\n",
       "      fill: #174EA6;\n",
       "    }\n",
       "\n",
       "    .colab-df-buttons div {\n",
       "      margin-bottom: 4px;\n",
       "    }\n",
       "\n",
       "    [theme=dark] .colab-df-convert {\n",
       "      background-color: #3B4455;\n",
       "      fill: #D2E3FC;\n",
       "    }\n",
       "\n",
       "    [theme=dark] .colab-df-convert:hover {\n",
       "      background-color: #434B5C;\n",
       "      box-shadow: 0px 1px 3px 1px rgba(0, 0, 0, 0.15);\n",
       "      filter: drop-shadow(0px 1px 2px rgba(0, 0, 0, 0.3));\n",
       "      fill: #FFFFFF;\n",
       "    }\n",
       "  </style>\n",
       "\n",
       "    <script>\n",
       "      const buttonEl =\n",
       "        document.querySelector('#df-f358314d-1bbf-4ecb-8e32-2130d9c6f143 button.colab-df-convert');\n",
       "      buttonEl.style.display =\n",
       "        google.colab.kernel.accessAllowed ? 'block' : 'none';\n",
       "\n",
       "      async function convertToInteractive(key) {\n",
       "        const element = document.querySelector('#df-f358314d-1bbf-4ecb-8e32-2130d9c6f143');\n",
       "        const dataTable =\n",
       "          await google.colab.kernel.invokeFunction('convertToInteractive',\n",
       "                                                    [key], {});\n",
       "        if (!dataTable) return;\n",
       "\n",
       "        const docLinkHtml = 'Like what you see? Visit the ' +\n",
       "          '<a target=\"_blank\" href=https://colab.research.google.com/notebooks/data_table.ipynb>data table notebook</a>'\n",
       "          + ' to learn more about interactive tables.';\n",
       "        element.innerHTML = '';\n",
       "        dataTable['output_type'] = 'display_data';\n",
       "        await google.colab.output.renderOutput(dataTable, element);\n",
       "        const docLink = document.createElement('div');\n",
       "        docLink.innerHTML = docLinkHtml;\n",
       "        element.appendChild(docLink);\n",
       "      }\n",
       "    </script>\n",
       "  </div>\n",
       "\n",
       "\n",
       "<div id=\"df-81306aad-3e83-420c-b90f-4a60ab5335a9\">\n",
       "  <button class=\"colab-df-quickchart\" onclick=\"quickchart('df-81306aad-3e83-420c-b90f-4a60ab5335a9')\"\n",
       "            title=\"Suggest charts\"\n",
       "            style=\"display:none;\">\n",
       "\n",
       "<svg xmlns=\"http://www.w3.org/2000/svg\" height=\"24px\"viewBox=\"0 0 24 24\"\n",
       "     width=\"24px\">\n",
       "    <g>\n",
       "        <path d=\"M19 3H5c-1.1 0-2 .9-2 2v14c0 1.1.9 2 2 2h14c1.1 0 2-.9 2-2V5c0-1.1-.9-2-2-2zM9 17H7v-7h2v7zm4 0h-2V7h2v10zm4 0h-2v-4h2v4z\"/>\n",
       "    </g>\n",
       "</svg>\n",
       "  </button>\n",
       "\n",
       "<style>\n",
       "  .colab-df-quickchart {\n",
       "      --bg-color: #E8F0FE;\n",
       "      --fill-color: #1967D2;\n",
       "      --hover-bg-color: #E2EBFA;\n",
       "      --hover-fill-color: #174EA6;\n",
       "      --disabled-fill-color: #AAA;\n",
       "      --disabled-bg-color: #DDD;\n",
       "  }\n",
       "\n",
       "  [theme=dark] .colab-df-quickchart {\n",
       "      --bg-color: #3B4455;\n",
       "      --fill-color: #D2E3FC;\n",
       "      --hover-bg-color: #434B5C;\n",
       "      --hover-fill-color: #FFFFFF;\n",
       "      --disabled-bg-color: #3B4455;\n",
       "      --disabled-fill-color: #666;\n",
       "  }\n",
       "\n",
       "  .colab-df-quickchart {\n",
       "    background-color: var(--bg-color);\n",
       "    border: none;\n",
       "    border-radius: 50%;\n",
       "    cursor: pointer;\n",
       "    display: none;\n",
       "    fill: var(--fill-color);\n",
       "    height: 32px;\n",
       "    padding: 0;\n",
       "    width: 32px;\n",
       "  }\n",
       "\n",
       "  .colab-df-quickchart:hover {\n",
       "    background-color: var(--hover-bg-color);\n",
       "    box-shadow: 0 1px 2px rgba(60, 64, 67, 0.3), 0 1px 3px 1px rgba(60, 64, 67, 0.15);\n",
       "    fill: var(--button-hover-fill-color);\n",
       "  }\n",
       "\n",
       "  .colab-df-quickchart-complete:disabled,\n",
       "  .colab-df-quickchart-complete:disabled:hover {\n",
       "    background-color: var(--disabled-bg-color);\n",
       "    fill: var(--disabled-fill-color);\n",
       "    box-shadow: none;\n",
       "  }\n",
       "\n",
       "  .colab-df-spinner {\n",
       "    border: 2px solid var(--fill-color);\n",
       "    border-color: transparent;\n",
       "    border-bottom-color: var(--fill-color);\n",
       "    animation:\n",
       "      spin 1s steps(1) infinite;\n",
       "  }\n",
       "\n",
       "  @keyframes spin {\n",
       "    0% {\n",
       "      border-color: transparent;\n",
       "      border-bottom-color: var(--fill-color);\n",
       "      border-left-color: var(--fill-color);\n",
       "    }\n",
       "    20% {\n",
       "      border-color: transparent;\n",
       "      border-left-color: var(--fill-color);\n",
       "      border-top-color: var(--fill-color);\n",
       "    }\n",
       "    30% {\n",
       "      border-color: transparent;\n",
       "      border-left-color: var(--fill-color);\n",
       "      border-top-color: var(--fill-color);\n",
       "      border-right-color: var(--fill-color);\n",
       "    }\n",
       "    40% {\n",
       "      border-color: transparent;\n",
       "      border-right-color: var(--fill-color);\n",
       "      border-top-color: var(--fill-color);\n",
       "    }\n",
       "    60% {\n",
       "      border-color: transparent;\n",
       "      border-right-color: var(--fill-color);\n",
       "    }\n",
       "    80% {\n",
       "      border-color: transparent;\n",
       "      border-right-color: var(--fill-color);\n",
       "      border-bottom-color: var(--fill-color);\n",
       "    }\n",
       "    90% {\n",
       "      border-color: transparent;\n",
       "      border-bottom-color: var(--fill-color);\n",
       "    }\n",
       "  }\n",
       "</style>\n",
       "\n",
       "  <script>\n",
       "    async function quickchart(key) {\n",
       "      const quickchartButtonEl =\n",
       "        document.querySelector('#' + key + ' button');\n",
       "      quickchartButtonEl.disabled = true;  // To prevent multiple clicks.\n",
       "      quickchartButtonEl.classList.add('colab-df-spinner');\n",
       "      try {\n",
       "        const charts = await google.colab.kernel.invokeFunction(\n",
       "            'suggestCharts', [key], {});\n",
       "      } catch (error) {\n",
       "        console.error('Error during call to suggestCharts:', error);\n",
       "      }\n",
       "      quickchartButtonEl.classList.remove('colab-df-spinner');\n",
       "      quickchartButtonEl.classList.add('colab-df-quickchart-complete');\n",
       "    }\n",
       "    (() => {\n",
       "      let quickchartButtonEl =\n",
       "        document.querySelector('#df-81306aad-3e83-420c-b90f-4a60ab5335a9 button');\n",
       "      quickchartButtonEl.style.display =\n",
       "        google.colab.kernel.accessAllowed ? 'block' : 'none';\n",
       "    })();\n",
       "  </script>\n",
       "</div>\n",
       "    </div>\n",
       "  </div>\n"
      ],
      "text/plain": [
       "    station_code  station_latitude_deg  station_longitude_deg  \\\n",
       "0           113A             32.768299            -113.766701   \n",
       "1           319A             31.375700            -109.280899   \n",
       "2            A11             47.243100             -70.196900   \n",
       "3            A16             47.468000             -70.009600   \n",
       "4            A21             47.704500             -69.689200   \n",
       "..           ...                   ...                    ...   \n",
       "929         B081             33.711167            -116.714167   \n",
       "930         B082             33.598182            -116.596005   \n",
       "931         B084             33.611570            -116.456370   \n",
       "932         B086             33.557500            -116.531000   \n",
       "933         B087             33.495500            -116.602667   \n",
       "\n",
       "                                             locations  \n",
       "0                  Yuma County, Arizona, United States  \n",
       "1               Cochise County, Arizona, United States  \n",
       "2    809, Côte des Chênes, Saint-Jean-Port-Joli, L'...  \n",
       "3    Chemin de la Petite-Anse, De Saint-Just, Riviè...  \n",
       "4    Route Beaulieu, Saint-André-de-Kamouraska, Kam...  \n",
       "..                                                 ...  \n",
       "929  Lower South Ridge, Mountain Center, Riverside ...  \n",
       "930  Pathfinder Ranch, Pathfinder Road, Riverside C...  \n",
       "931  Materhorn View, Alpine Village, Riverside Coun...  \n",
       "932  BIA 24, New Santa Rosa, Riverside County, Cali...  \n",
       "933  Coyote Canyon Road, Riverside County, Californ...  \n",
       "\n",
       "[934 rows x 4 columns]"
      ]
     },
     "execution_count": 37,
     "metadata": {},
     "output_type": "execute_result"
    }
   ],
   "source": [
    "data_locations"
   ]
  },
  {
   "cell_type": "code",
   "execution_count": 32,
   "metadata": {
    "colab": {
     "base_uri": "https://localhost:8080/",
     "height": 423
    },
    "executionInfo": {
     "elapsed": 168,
     "status": "ok",
     "timestamp": 1717367860205,
     "user": {
      "displayName": "Akari Tajima",
      "userId": "14232977932295828397"
     },
     "user_tz": 420
    },
    "id": "khclYfyLmPjN",
    "outputId": "229d6560-3211-43f9-a4ed-008885bc49f5"
   },
   "outputs": [
    {
     "data": {
      "application/vnd.google.colaboratory.intrinsic+json": {
       "summary": "{\n  \"name\": \"filtered_df\",\n  \"rows\": 676,\n  \"fields\": [\n    {\n      \"column\": \"station_code\",\n      \"properties\": {\n        \"dtype\": \"string\",\n        \"num_unique_values\": 656,\n        \"samples\": [\n          \"FXWY\",\n          \"KIPQ\",\n          \"BRVK\"\n        ],\n        \"semantic_type\": \"\",\n        \"description\": \"\"\n      }\n    },\n    {\n      \"column\": \"station_latitude_deg\",\n      \"properties\": {\n        \"dtype\": \"number\",\n        \"std\": 31.200371876223915,\n        \"min\": -77.8492,\n        \"max\": 77.444702,\n        \"num_unique_values\": 667,\n        \"samples\": [\n          43.2917,\n          64.0647,\n          59.3823\n        ],\n        \"semantic_type\": \"\",\n        \"description\": \"\"\n      }\n    },\n    {\n      \"column\": \"station_longitude_deg\",\n      \"properties\": {\n        \"dtype\": \"number\",\n        \"std\": 93.07414643512381,\n        \"min\": -178.8566,\n        \"max\": 179.6277,\n        \"num_unique_values\": 671,\n        \"samples\": [\n          80.7022,\n          -139.3937,\n          -113.894318\n        ],\n        \"semantic_type\": \"\",\n        \"description\": \"\"\n      }\n    },\n    {\n      \"column\": \"locations\",\n      \"properties\": {\n        \"dtype\": \"string\",\n        \"num_unique_values\": 577,\n        \"samples\": [\n          \"Ovalle, Provincia de Limar\\u00ed, Coquimbo Region, Chile\",\n          \"\\u041c-048, S\\u00f6\\u00f6k, Jeti-\\u00d6g\\u00fcz District, Issyk-Kul Region, Kyrgyzstan\",\n          \"Grant County, Washington, United States\"\n        ],\n        \"semantic_type\": \"\",\n        \"description\": \"\"\n      }\n    }\n  ]\n}",
       "type": "dataframe",
       "variable_name": "filtered_df"
      },
      "text/html": [
       "\n",
       "  <div id=\"df-1e62df94-bf8f-46b3-90f1-885468ad97c0\" class=\"colab-df-container\">\n",
       "    <div>\n",
       "<style scoped>\n",
       "    .dataframe tbody tr th:only-of-type {\n",
       "        vertical-align: middle;\n",
       "    }\n",
       "\n",
       "    .dataframe tbody tr th {\n",
       "        vertical-align: top;\n",
       "    }\n",
       "\n",
       "    .dataframe thead th {\n",
       "        text-align: right;\n",
       "    }\n",
       "</style>\n",
       "<table border=\"1\" class=\"dataframe\">\n",
       "  <thead>\n",
       "    <tr style=\"text-align: right;\">\n",
       "      <th></th>\n",
       "      <th>station_code</th>\n",
       "      <th>station_latitude_deg</th>\n",
       "      <th>station_longitude_deg</th>\n",
       "      <th>locations</th>\n",
       "    </tr>\n",
       "  </thead>\n",
       "  <tbody>\n",
       "    <tr>\n",
       "      <th>0</th>\n",
       "      <td>113A</td>\n",
       "      <td>32.768299</td>\n",
       "      <td>-113.766701</td>\n",
       "      <td>Yuma County, Arizona, United States</td>\n",
       "    </tr>\n",
       "    <tr>\n",
       "      <th>1</th>\n",
       "      <td>319A</td>\n",
       "      <td>31.375700</td>\n",
       "      <td>-109.280899</td>\n",
       "      <td>Cochise County, Arizona, United States</td>\n",
       "    </tr>\n",
       "    <tr>\n",
       "      <th>2</th>\n",
       "      <td>A11</td>\n",
       "      <td>47.243100</td>\n",
       "      <td>-70.196900</td>\n",
       "      <td>809, Côte des Chênes, Saint-Jean-Port-Joli, L'...</td>\n",
       "    </tr>\n",
       "    <tr>\n",
       "      <th>3</th>\n",
       "      <td>A16</td>\n",
       "      <td>47.468000</td>\n",
       "      <td>-70.009600</td>\n",
       "      <td>Chemin de la Petite-Anse, De Saint-Just, Riviè...</td>\n",
       "    </tr>\n",
       "    <tr>\n",
       "      <th>4</th>\n",
       "      <td>A21</td>\n",
       "      <td>47.704500</td>\n",
       "      <td>-69.689200</td>\n",
       "      <td>Route Beaulieu, Saint-André-de-Kamouraska, Kam...</td>\n",
       "    </tr>\n",
       "    <tr>\n",
       "      <th>...</th>\n",
       "      <td>...</td>\n",
       "      <td>...</td>\n",
       "      <td>...</td>\n",
       "      <td>...</td>\n",
       "    </tr>\n",
       "    <tr>\n",
       "      <th>918</th>\n",
       "      <td>B04A</td>\n",
       "      <td>48.057500</td>\n",
       "      <td>-123.504000</td>\n",
       "      <td>3030, Clallam County, Washington, United States</td>\n",
       "    </tr>\n",
       "    <tr>\n",
       "      <th>921</th>\n",
       "      <td>B05A</td>\n",
       "      <td>48.264100</td>\n",
       "      <td>-122.096000</td>\n",
       "      <td>West Cedarvale Loop Road, Snohomish County, Wa...</td>\n",
       "    </tr>\n",
       "    <tr>\n",
       "      <th>922</th>\n",
       "      <td>B05D</td>\n",
       "      <td>48.264100</td>\n",
       "      <td>-122.096000</td>\n",
       "      <td>West Cedarvale Loop Road, Snohomish County, Wa...</td>\n",
       "    </tr>\n",
       "    <tr>\n",
       "      <th>925</th>\n",
       "      <td>B06A</td>\n",
       "      <td>48.518300</td>\n",
       "      <td>-121.484500</td>\n",
       "      <td>Corkindale, Skagit County, Washington, 98283, ...</td>\n",
       "    </tr>\n",
       "    <tr>\n",
       "      <th>928</th>\n",
       "      <td>B07A</td>\n",
       "      <td>48.460700</td>\n",
       "      <td>-120.119700</td>\n",
       "      <td>Bear Creek Road, Okanogan County, Washington, ...</td>\n",
       "    </tr>\n",
       "  </tbody>\n",
       "</table>\n",
       "<p>676 rows × 4 columns</p>\n",
       "</div>\n",
       "    <div class=\"colab-df-buttons\">\n",
       "\n",
       "  <div class=\"colab-df-container\">\n",
       "    <button class=\"colab-df-convert\" onclick=\"convertToInteractive('df-1e62df94-bf8f-46b3-90f1-885468ad97c0')\"\n",
       "            title=\"Convert this dataframe to an interactive table.\"\n",
       "            style=\"display:none;\">\n",
       "\n",
       "  <svg xmlns=\"http://www.w3.org/2000/svg\" height=\"24px\" viewBox=\"0 -960 960 960\">\n",
       "    <path d=\"M120-120v-720h720v720H120Zm60-500h600v-160H180v160Zm220 220h160v-160H400v160Zm0 220h160v-160H400v160ZM180-400h160v-160H180v160Zm440 0h160v-160H620v160ZM180-180h160v-160H180v160Zm440 0h160v-160H620v160Z\"/>\n",
       "  </svg>\n",
       "    </button>\n",
       "\n",
       "  <style>\n",
       "    .colab-df-container {\n",
       "      display:flex;\n",
       "      gap: 12px;\n",
       "    }\n",
       "\n",
       "    .colab-df-convert {\n",
       "      background-color: #E8F0FE;\n",
       "      border: none;\n",
       "      border-radius: 50%;\n",
       "      cursor: pointer;\n",
       "      display: none;\n",
       "      fill: #1967D2;\n",
       "      height: 32px;\n",
       "      padding: 0 0 0 0;\n",
       "      width: 32px;\n",
       "    }\n",
       "\n",
       "    .colab-df-convert:hover {\n",
       "      background-color: #E2EBFA;\n",
       "      box-shadow: 0px 1px 2px rgba(60, 64, 67, 0.3), 0px 1px 3px 1px rgba(60, 64, 67, 0.15);\n",
       "      fill: #174EA6;\n",
       "    }\n",
       "\n",
       "    .colab-df-buttons div {\n",
       "      margin-bottom: 4px;\n",
       "    }\n",
       "\n",
       "    [theme=dark] .colab-df-convert {\n",
       "      background-color: #3B4455;\n",
       "      fill: #D2E3FC;\n",
       "    }\n",
       "\n",
       "    [theme=dark] .colab-df-convert:hover {\n",
       "      background-color: #434B5C;\n",
       "      box-shadow: 0px 1px 3px 1px rgba(0, 0, 0, 0.15);\n",
       "      filter: drop-shadow(0px 1px 2px rgba(0, 0, 0, 0.3));\n",
       "      fill: #FFFFFF;\n",
       "    }\n",
       "  </style>\n",
       "\n",
       "    <script>\n",
       "      const buttonEl =\n",
       "        document.querySelector('#df-1e62df94-bf8f-46b3-90f1-885468ad97c0 button.colab-df-convert');\n",
       "      buttonEl.style.display =\n",
       "        google.colab.kernel.accessAllowed ? 'block' : 'none';\n",
       "\n",
       "      async function convertToInteractive(key) {\n",
       "        const element = document.querySelector('#df-1e62df94-bf8f-46b3-90f1-885468ad97c0');\n",
       "        const dataTable =\n",
       "          await google.colab.kernel.invokeFunction('convertToInteractive',\n",
       "                                                    [key], {});\n",
       "        if (!dataTable) return;\n",
       "\n",
       "        const docLinkHtml = 'Like what you see? Visit the ' +\n",
       "          '<a target=\"_blank\" href=https://colab.research.google.com/notebooks/data_table.ipynb>data table notebook</a>'\n",
       "          + ' to learn more about interactive tables.';\n",
       "        element.innerHTML = '';\n",
       "        dataTable['output_type'] = 'display_data';\n",
       "        await google.colab.output.renderOutput(dataTable, element);\n",
       "        const docLink = document.createElement('div');\n",
       "        docLink.innerHTML = docLinkHtml;\n",
       "        element.appendChild(docLink);\n",
       "      }\n",
       "    </script>\n",
       "  </div>\n",
       "\n",
       "\n",
       "<div id=\"df-0a430a37-6297-4f69-9572-b74090858288\">\n",
       "  <button class=\"colab-df-quickchart\" onclick=\"quickchart('df-0a430a37-6297-4f69-9572-b74090858288')\"\n",
       "            title=\"Suggest charts\"\n",
       "            style=\"display:none;\">\n",
       "\n",
       "<svg xmlns=\"http://www.w3.org/2000/svg\" height=\"24px\"viewBox=\"0 0 24 24\"\n",
       "     width=\"24px\">\n",
       "    <g>\n",
       "        <path d=\"M19 3H5c-1.1 0-2 .9-2 2v14c0 1.1.9 2 2 2h14c1.1 0 2-.9 2-2V5c0-1.1-.9-2-2-2zM9 17H7v-7h2v7zm4 0h-2V7h2v10zm4 0h-2v-4h2v4z\"/>\n",
       "    </g>\n",
       "</svg>\n",
       "  </button>\n",
       "\n",
       "<style>\n",
       "  .colab-df-quickchart {\n",
       "      --bg-color: #E8F0FE;\n",
       "      --fill-color: #1967D2;\n",
       "      --hover-bg-color: #E2EBFA;\n",
       "      --hover-fill-color: #174EA6;\n",
       "      --disabled-fill-color: #AAA;\n",
       "      --disabled-bg-color: #DDD;\n",
       "  }\n",
       "\n",
       "  [theme=dark] .colab-df-quickchart {\n",
       "      --bg-color: #3B4455;\n",
       "      --fill-color: #D2E3FC;\n",
       "      --hover-bg-color: #434B5C;\n",
       "      --hover-fill-color: #FFFFFF;\n",
       "      --disabled-bg-color: #3B4455;\n",
       "      --disabled-fill-color: #666;\n",
       "  }\n",
       "\n",
       "  .colab-df-quickchart {\n",
       "    background-color: var(--bg-color);\n",
       "    border: none;\n",
       "    border-radius: 50%;\n",
       "    cursor: pointer;\n",
       "    display: none;\n",
       "    fill: var(--fill-color);\n",
       "    height: 32px;\n",
       "    padding: 0;\n",
       "    width: 32px;\n",
       "  }\n",
       "\n",
       "  .colab-df-quickchart:hover {\n",
       "    background-color: var(--hover-bg-color);\n",
       "    box-shadow: 0 1px 2px rgba(60, 64, 67, 0.3), 0 1px 3px 1px rgba(60, 64, 67, 0.15);\n",
       "    fill: var(--button-hover-fill-color);\n",
       "  }\n",
       "\n",
       "  .colab-df-quickchart-complete:disabled,\n",
       "  .colab-df-quickchart-complete:disabled:hover {\n",
       "    background-color: var(--disabled-bg-color);\n",
       "    fill: var(--disabled-fill-color);\n",
       "    box-shadow: none;\n",
       "  }\n",
       "\n",
       "  .colab-df-spinner {\n",
       "    border: 2px solid var(--fill-color);\n",
       "    border-color: transparent;\n",
       "    border-bottom-color: var(--fill-color);\n",
       "    animation:\n",
       "      spin 1s steps(1) infinite;\n",
       "  }\n",
       "\n",
       "  @keyframes spin {\n",
       "    0% {\n",
       "      border-color: transparent;\n",
       "      border-bottom-color: var(--fill-color);\n",
       "      border-left-color: var(--fill-color);\n",
       "    }\n",
       "    20% {\n",
       "      border-color: transparent;\n",
       "      border-left-color: var(--fill-color);\n",
       "      border-top-color: var(--fill-color);\n",
       "    }\n",
       "    30% {\n",
       "      border-color: transparent;\n",
       "      border-left-color: var(--fill-color);\n",
       "      border-top-color: var(--fill-color);\n",
       "      border-right-color: var(--fill-color);\n",
       "    }\n",
       "    40% {\n",
       "      border-color: transparent;\n",
       "      border-right-color: var(--fill-color);\n",
       "      border-top-color: var(--fill-color);\n",
       "    }\n",
       "    60% {\n",
       "      border-color: transparent;\n",
       "      border-right-color: var(--fill-color);\n",
       "    }\n",
       "    80% {\n",
       "      border-color: transparent;\n",
       "      border-right-color: var(--fill-color);\n",
       "      border-bottom-color: var(--fill-color);\n",
       "    }\n",
       "    90% {\n",
       "      border-color: transparent;\n",
       "      border-bottom-color: var(--fill-color);\n",
       "    }\n",
       "  }\n",
       "</style>\n",
       "\n",
       "  <script>\n",
       "    async function quickchart(key) {\n",
       "      const quickchartButtonEl =\n",
       "        document.querySelector('#' + key + ' button');\n",
       "      quickchartButtonEl.disabled = true;  // To prevent multiple clicks.\n",
       "      quickchartButtonEl.classList.add('colab-df-spinner');\n",
       "      try {\n",
       "        const charts = await google.colab.kernel.invokeFunction(\n",
       "            'suggestCharts', [key], {});\n",
       "      } catch (error) {\n",
       "        console.error('Error during call to suggestCharts:', error);\n",
       "      }\n",
       "      quickchartButtonEl.classList.remove('colab-df-spinner');\n",
       "      quickchartButtonEl.classList.add('colab-df-quickchart-complete');\n",
       "    }\n",
       "    (() => {\n",
       "      let quickchartButtonEl =\n",
       "        document.querySelector('#df-0a430a37-6297-4f69-9572-b74090858288 button');\n",
       "      quickchartButtonEl.style.display =\n",
       "        google.colab.kernel.accessAllowed ? 'block' : 'none';\n",
       "    })();\n",
       "  </script>\n",
       "</div>\n",
       "    </div>\n",
       "  </div>\n"
      ],
      "text/plain": [
       "    station_code  station_latitude_deg  station_longitude_deg  \\\n",
       "0           113A             32.768299            -113.766701   \n",
       "1           319A             31.375700            -109.280899   \n",
       "2            A11             47.243100             -70.196900   \n",
       "3            A16             47.468000             -70.009600   \n",
       "4            A21             47.704500             -69.689200   \n",
       "..           ...                   ...                    ...   \n",
       "918         B04A             48.057500            -123.504000   \n",
       "921         B05A             48.264100            -122.096000   \n",
       "922         B05D             48.264100            -122.096000   \n",
       "925         B06A             48.518300            -121.484500   \n",
       "928         B07A             48.460700            -120.119700   \n",
       "\n",
       "                                             locations  \n",
       "0                  Yuma County, Arizona, United States  \n",
       "1               Cochise County, Arizona, United States  \n",
       "2    809, Côte des Chênes, Saint-Jean-Port-Joli, L'...  \n",
       "3    Chemin de la Petite-Anse, De Saint-Just, Riviè...  \n",
       "4    Route Beaulieu, Saint-André-de-Kamouraska, Kam...  \n",
       "..                                                 ...  \n",
       "918    3030, Clallam County, Washington, United States  \n",
       "921  West Cedarvale Loop Road, Snohomish County, Wa...  \n",
       "922  West Cedarvale Loop Road, Snohomish County, Wa...  \n",
       "925  Corkindale, Skagit County, Washington, 98283, ...  \n",
       "928  Bear Creek Road, Okanogan County, Washington, ...  \n",
       "\n",
       "[676 rows x 4 columns]"
      ]
     },
     "execution_count": 32,
     "metadata": {},
     "output_type": "execute_result"
    }
   ],
   "source": [
    "# Find locations that are not california\n",
    "filtered_df = data_locations[~data_locations['locations'].str.contains('California', case=False, na=False)]\n",
    "#filtered_df[['station_code']].drop_duplicates()\n",
    "filtered_df"
   ]
  },
  {
   "cell_type": "markdown",
   "metadata": {
    "id": "98SW903wQ8Bd"
   },
   "source": [
    "### Create csv for locations"
   ]
  },
  {
   "cell_type": "code",
   "execution_count": null,
   "metadata": {
    "id": "f452N5yo1lD7"
   },
   "outputs": [],
   "source": [
    "unique_locs = data[['station_code', 'station_latitude_deg', 'station_longitude_deg']].drop_duplicates()"
   ]
  },
  {
   "cell_type": "code",
   "execution_count": null,
   "metadata": {
    "colab": {
     "base_uri": "https://localhost:8080/"
    },
    "executionInfo": {
     "elapsed": 469240,
     "status": "ok",
     "timestamp": 1717038621892,
     "user": {
      "displayName": "Akari Tajima",
      "userId": "14232977932295828397"
     },
     "user_tz": 420
    },
    "id": "WeJh4fd-1rU_",
    "outputId": "03e67412-b755-4ad3-b0a2-520edff35696"
   },
   "outputs": [
    {
     "name": "stderr",
     "output_type": "stream",
     "text": [
      "WARNING:urllib3.connectionpool:Retrying (Retry(total=1, connect=None, read=None, redirect=None, status=None)) after connection broken by 'ReadTimeoutError(\"HTTPSConnectionPool(host='nominatim.openstreetmap.org', port=443): Read timed out. (read timeout=1)\")': /reverse?lat=34.17141&lon=-118.18523&format=json&accept-language=en&addressdetails=1\n",
      "WARNING:urllib3.connectionpool:Retrying (Retry(total=1, connect=None, read=None, redirect=None, status=None)) after connection broken by 'ReadTimeoutError(\"HTTPSConnectionPool(host='nominatim.openstreetmap.org', port=443): Read timed out. (read timeout=1)\")': /reverse?lat=50.155899&lon=5.2276&format=json&accept-language=en&addressdetails=1\n"
     ]
    }
   ],
   "source": [
    "# Might want to fix this based on station code\n",
    "locator = Nominatim(user_agent=\"<APP_NAME>\")\n",
    "\n",
    "locations = []\n",
    "\n",
    "for i in range(len(unique_locs)):\n",
    "  latitude = str(unique_locs.iloc[i][1])\n",
    "  longitude = str(unique_locs.iloc[i][2])\n",
    "  loc_str = latitude+','+longitude\n",
    "  loc = locator.reverse(loc_str, language='en')\n",
    "  if loc is None:\n",
    "    locations.append('')\n",
    "  else:\n",
    "    locations.append(loc[0])\n",
    "\n",
    "unique_locs['locations'] = locations"
   ]
  },
  {
   "cell_type": "code",
   "execution_count": null,
   "metadata": {
    "id": "5qxjs9kO_JUT"
   },
   "outputs": [],
   "source": [
    "unique_locs.to_csv('full_locations.csv', index=False)"
   ]
  }
 ],
 "metadata": {
  "colab": {
   "provenance": [
    {
     "file_id": "1Djsol5l7fSeqouj9F6Mig6Y0Wi8Hq1AM",
     "timestamp": 1714507426142
    }
   ]
  },
  "kernelspec": {
   "display_name": "Python 3 (ipykernel)",
   "language": "python",
   "name": "python3"
  },
  "language_info": {
   "codemirror_mode": {
    "name": "ipython",
    "version": 3
   },
   "file_extension": ".py",
   "mimetype": "text/x-python",
   "name": "python",
   "nbconvert_exporter": "python",
   "pygments_lexer": "ipython3",
   "version": "3.8.5"
  }
 },
 "nbformat": 4,
 "nbformat_minor": 1
}
